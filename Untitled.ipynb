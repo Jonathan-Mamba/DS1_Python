{
 "cells": [
  {
   "cell_type": "markdown",
   "id": "f4764763",
   "metadata": {},
   "source": [
    "# Partie 2"
   ]
  },
  {
   "cell_type": "markdown",
   "id": "adfd715f",
   "metadata": {},
   "source": [
    "Très bien."
   ]
  },
  {
   "cell_type": "code",
   "execution_count": 2,
   "id": "5f51cc98",
   "metadata": {},
   "outputs": [
    {
     "name": "stdout",
     "output_type": "stream",
     "text": [
      "NOM: Toto \n",
      "AGE: 18 \n",
      "ETUDIANT: True\n"
     ]
    }
   ],
   "source": [
    "#Exercice 1\n",
    "nom = input(\"Nom: \")\n",
    "age = int(input(\"Age: \"))\n",
    "input_etudiant = input(\"Etes-vous un étudiant(y/n) ? \")\n",
    "if input_etudiant.lower() == \"y\":\n",
    "    est_etudiant = True\n",
    "else:\n",
    "    est_etudiant = False\n",
    "print(f\"NOM: {nom} \\nAGE: {age} \\nETUDIANT: {est_etudiant}\") "
   ]
  },
  {
   "cell_type": "code",
   "execution_count": 3,
   "id": "d7abc4e4",
   "metadata": {},
   "outputs": [
    {
     "name": "stdout",
     "output_type": "stream",
     "text": [
      "La somme est positive\n",
      "La somme est négative ou nulle\n"
     ]
    }
   ],
   "source": [
    "#Exercice 2\n",
    "def addition_et_statut(a, b):\n",
    "    if a + b > 0:\n",
    "        print(\"La somme est positive\")\n",
    "    else:\n",
    "        print(\"La somme est négative ou nulle\")\n",
    "addition_et_statut(2, 3)\n",
    "addition_et_statut(-5, -10)"
   ]
  },
  {
   "cell_type": "code",
   "execution_count": 6,
   "id": "2a8c5bda",
   "metadata": {},
   "outputs": [
    {
     "name": "stdout",
     "output_type": "stream",
     "text": [
      "Le resultat est 8\n"
     ]
    }
   ],
   "source": [
    "#Exercice 3\n",
    "def ajout(a, b):\n",
    "    resultat = a + b\n",
    "    print(\"Le resultat est \" + str(resultat))\n",
    "ajout(5, 3)"
   ]
  },
  {
   "cell_type": "markdown",
   "id": "09db03ae",
   "metadata": {},
   "source": [
    "# Partie 3"
   ]
  },
  {
   "cell_type": "code",
   "execution_count": 8,
   "id": "6c9e4ab6",
   "metadata": {},
   "outputs": [
    {
     "name": "stdout",
     "output_type": "stream",
     "text": [
      "Veuillez mettre une phrase: jfhdj djhfdshf djfhdjfh\n",
      "0\n"
     ]
    }
   ],
   "source": [
    "#Exercice 1\n",
    "\n",
    "\n",
    "def compte_voyelles(chaine):\n",
    "    nb_voyelles = 0\n",
    "    for lettre in chaine:\n",
    "        if lettre in (\"a\", \"e\", \"i\", \"o\", \"u\", \"y\"):\n",
    "            nb_voyelles += 1\n",
    "    return nb_voyelles\n",
    "print(compte_voyelles(input(\"Veuillez mettre une phrase: \")))"
   ]
  },
  {
   "cell_type": "code",
   "execution_count": 10,
   "id": "0f4fbc50",
   "metadata": {},
   "outputs": [
    {
     "name": "stdout",
     "output_type": "stream",
     "text": [
      "chats les j'aime Bonjour\n"
     ]
    }
   ],
   "source": [
    "#bonus\n",
    "def inverse_mots(chaine):\n",
    "    return \" \".join(chaine.split()[::-1])\n",
    "\n",
    "print(inverse_mots(\"Bonjour j'aime les chats\"))"
   ]
  }
 ],
 "metadata": {
  "kernelspec": {
   "display_name": "Python 3",
   "language": "python",
   "name": "python3"
  },
  "language_info": {
   "codemirror_mode": {
    "name": "ipython",
    "version": 3
   },
   "file_extension": ".py",
   "mimetype": "text/x-python",
   "name": "python",
   "nbconvert_exporter": "python",
   "pygments_lexer": "ipython3",
   "version": "3.undefined.undefined"
  }
 },
 "nbformat": 4,
 "nbformat_minor": 5
}
